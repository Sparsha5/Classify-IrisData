{
  "nbformat": 4,
  "nbformat_minor": 0,
  "metadata": {
    "colab": {
      "name": "HappyMonk.ipynb",
      "provenance": [],
      "collapsed_sections": []
    },
    "kernelspec": {
      "name": "python3",
      "display_name": "Python 3"
    },
    "language_info": {
      "name": "python"
    },
    "accelerator": "GPU"
  },
  "cells": [
    {
      "cell_type": "code",
      "metadata": {
        "id": "j3A7jBtLY5jw"
      },
      "source": [
        "# Backprop on the Vowel Dataset\n",
        "from random import seed\n",
        "from random import randrange\n",
        "from random import random\n",
        "from csv import reader\n",
        "from math import exp\n",
        "from sklearn.metrics import confusion_matrix\n",
        "from sklearn.metrics import cohen_kappa_score\n",
        "import numpy as np\n",
        "import csv\n",
        " "
      ],
      "execution_count": 1,
      "outputs": []
    },
    {
      "cell_type": "code",
      "metadata": {
        "colab": {
          "resources": {
            "http://localhost:8080/nbextensions/google.colab/files.js": {
              "data": "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",
              "ok": true,
              "headers": [
                [
                  "content-type",
                  "application/javascript"
                ]
              ],
              "status": 200,
              "status_text": ""
            }
          },
          "base_uri": "https://localhost:8080/",
          "height": 72
        },
        "id": "jss_jjJ2WW0h",
        "outputId": "4685f362-10f5-4396-9bab-bd278f36c9c6"
      },
      "source": [
        "from google.colab import files\n",
        "uploaded = files.upload()"
      ],
      "execution_count": 15,
      "outputs": [
        {
          "output_type": "display_data",
          "data": {
            "text/html": [
              "\n",
              "     <input type=\"file\" id=\"files-f4341092-bb23-404c-8251-05c49b5876c7\" name=\"files[]\" multiple disabled\n",
              "        style=\"border:none\" />\n",
              "     <output id=\"result-f4341092-bb23-404c-8251-05c49b5876c7\">\n",
              "      Upload widget is only available when the cell has been executed in the\n",
              "      current browser session. Please rerun this cell to enable.\n",
              "      </output>\n",
              "      <script src=\"/nbextensions/google.colab/files.js\"></script> "
            ],
            "text/plain": [
              "<IPython.core.display.HTML object>"
            ]
          },
          "metadata": {
            "tags": []
          }
        },
        {
          "output_type": "stream",
          "text": [
            "Saving Iris.csv to Iris.csv\n"
          ],
          "name": "stdout"
        }
      ]
    },
    {
      "cell_type": "code",
      "metadata": {
        "id": "zMI6pwQPZkyN"
      },
      "source": [
        "# Load a CSV file\n",
        "def loadCsv(filename):\n",
        "        trainSet = []\n",
        "        \n",
        "        lines = csv.reader(open(filename, 'r'))\n",
        "        dataset = list(lines)\n",
        "        for i in range(len(dataset)):\n",
        "                for j in range(4):\n",
        "                        #print(\"DATA {}\".format(dataset[i]))\n",
        "                        dataset[i][j] = float(dataset[i][j])\n",
        "                trainSet.append(dataset[i])\n",
        "        return trainSet\n"
      ],
      "execution_count": 2,
      "outputs": []
    },
    {
      "cell_type": "code",
      "metadata": {
        "id": "9iBLYb0mZr4g"
      },
      "source": [
        "def minmax(dataset):\n",
        "        minmax = list()\n",
        "        stats = [[min(column), max(column)] for column in zip(dataset)]\n",
        "        return stats\n",
        " \n",
        "# Rescale dataset columns to the range 0-1\n",
        "def normalize(dataset, minmax):\n",
        "        for row in dataset:\n",
        "                for i in range(len(row)-1):\n",
        "                        row[i] = float ((row[i] - minmax[i][0]) / (minmax[i][1] - minmax[i][0]))\n",
        " \n",
        "# Convert string column to float\n",
        "def column_to_float(dataset, column):\n",
        "        for row in dataset:\n",
        "                try:\n",
        "                        row[column] = float(row[column])\n",
        "                except ValueError:\n",
        "                        print(\"Error with row\",column,\":\",row[column])\n",
        "                        pass"
      ],
      "execution_count": 3,
      "outputs": []
    },
    {
      "cell_type": "code",
      "metadata": {
        "id": "B7-YycGRZxIc"
      },
      "source": [
        "def column_to_int(dataset, column):\n",
        "        class_values = [row[column] for row in dataset]\n",
        "        unique = set(class_values)\n",
        "        lookup = dict()\n",
        "        for i, value in enumerate(unique):\n",
        "                lookup[value] = i\n",
        "        for row in dataset:\n",
        "                row[column] = lookup[row[column]]\n",
        "        return lookup"
      ],
      "execution_count": 4,
      "outputs": []
    },
    {
      "cell_type": "code",
      "metadata": {
        "id": "v6q9wkAsZ2il"
      },
      "source": [
        "# Split a dataset into k folds\n",
        "def cross_validation_split(dataset, n_folds):\n",
        "        dataset_split = list()\n",
        "        dataset_copy = list(dataset)\n",
        "        fold_size = int(len(dataset) / n_folds)\n",
        "        for i in range(n_folds):\n",
        "                fold = list()\n",
        "                while len(fold) < fold_size:\n",
        "                        index = randrange(len(dataset_copy))\n",
        "                        fold.append(dataset_copy.pop(index))\n",
        "                dataset_split.append(fold)\n",
        "        return dataset_split\n",
        " \n",
        "# Calculate accuracy percentage\n",
        "def accuracy_met(actual, predicted):\n",
        "        correct = 0\n",
        "        for i in range(len(actual)):\n",
        "                if actual[i] == predicted[i]:\n",
        "                        correct += 1\n",
        "        return correct / float(len(actual)) * 100.0\n",
        " "
      ],
      "execution_count": 5,
      "outputs": []
    },
    {
      "cell_type": "code",
      "metadata": {
        "id": "iwxhhxlNZ622"
      },
      "source": [
        "def run_algorithm(dataset, algorithm, n_folds, *args):\n",
        "        \n",
        "        folds = cross_validation_split(dataset, n_folds)\n",
        "        #for fold in folds:\n",
        "                #print(\"Fold {} \\n \\n\".format(fold))\n",
        "        scores = list()\n",
        "        for fold in folds:\n",
        "                #print(\"Test Fold {} \\n \\n\".format(fold))\n",
        "                train_set = list(folds)\n",
        "                index = np.argwhere(train_set==fold)\n",
        "                deleted = np.delete(train_set,index)\n",
        "                #print (\"deleted : \", deleted)\n",
        "                train_set = sum(train_set, [])\n",
        "                test_set = list()\n",
        "                for row in fold:\n",
        "                        row_copy = list(row)\n",
        "                        test_set.append(row_copy)\n",
        "                        row_copy[-1] = None\n",
        "                predicted = algorithm(train_set, test_set, *args)\n",
        "                actual = [row[-1] for row in fold]\n",
        "                accuracy = accuracy_met(actual, predicted)\n",
        "                cm = confusion_matrix(actual, predicted)\n",
        "                print('\\n'.join([''.join(['{:4}'.format(item) for item in row]) for row in cm]))\n",
        "                #confusionmatrix = np.matrix(cm)\n",
        "                FP = cm.sum(axis=0) - np.diag(cm)\n",
        "                FN = cm.sum(axis=1) - np.diag(cm)\n",
        "                TP = np.diag(cm)\n",
        "                TN = cm.sum() - (FP + FN + TP)\n",
        "                print('False Positives\\n {}'.format(FP))\n",
        "                print('False Negetives\\n {}'.format(FN))\n",
        "                print('True Positives\\n {}'.format(TP))\n",
        "                print('True Negetives\\n {}'.format(TN))\n",
        "                TPR = TP/(TP+FN)\n",
        "                print('Sensitivity \\n {}'.format(TPR))\n",
        "                TNR = TN/(TN+FP)\n",
        "                print('Specificity \\n {}'.format(TNR))\n",
        "                Precision = TP/(TP+FP)\n",
        "                print('Precision \\n {}'.format(Precision))\n",
        "                Recall = TP/(TP+FN)\n",
        "                print('Recall \\n {}'.format(Recall))\n",
        "                Acc = (TP+TN)/(TP+TN+FP+FN)\n",
        "                print('Áccuracy \\n{}'.format(Acc))\n",
        "                Fscore = 2*(Precision*Recall)/(Precision+Recall)\n",
        "                print('FScore \\n{}'.format(Fscore))\n",
        "                k=cohen_kappa_score(actual, predicted)\n",
        "                print('Çohen Kappa \\n{}'.format(k))\n",
        "                scores.append(accuracy)\n",
        "        return scores"
      ],
      "execution_count": 6,
      "outputs": []
    },
    {
      "cell_type": "code",
      "metadata": {
        "id": "s626BYfhaDFe"
      },
      "source": [
        "def activate(weights, inputs):\n",
        "        activation = weights[-1]\n",
        "        #print (len(weights),\" : \" ,len(inputs))\n",
        "        for i in range(len(inputs)-1):\n",
        "                activation += weights[i] * inputs[i]\n",
        "        return activation"
      ],
      "execution_count": 7,
      "outputs": []
    },
    {
      "cell_type": "code",
      "metadata": {
        "id": "mtKwJzrMaGI9"
      },
      "source": [
        "def transfer(activation):\n",
        "        return 1.0 / (1.0 + exp(-activation))\n",
        " \n",
        "# Forward propagate input to a network output\n",
        "def forward_propagate(network, row):\n",
        "        inputs = row\n",
        "        for layer in network:\n",
        "                new_inputs = []\n",
        "                for neuron in layer:\n",
        "                        activation = activate(neuron['weights'], inputs)\n",
        "                        neuron['output'] = transfer(activation)\n",
        "                        new_inputs.append(neuron['output'])\n",
        "                inputs = new_inputs\n",
        "        return inputs"
      ],
      "execution_count": 8,
      "outputs": []
    },
    {
      "cell_type": "code",
      "metadata": {
        "id": "gs4arwjsaI5Q"
      },
      "source": [
        "# Calculate the derivative of an neuron output\n",
        "def transfer_derivative(output):\n",
        "        return output * (1.0 - output)\n",
        " \n",
        "# Backpropagate error and store in neurons\n",
        "def backward_propagate_error(network, expected):\n",
        "        for i in reversed(range(len(network))):\n",
        "                layer = network[i]\n",
        "                errors = list()\n",
        "                if i != len(network)-1:\n",
        "                        for j in range(len(layer)):\n",
        "                                error = 0.0\n",
        "                                for neuron in network[i + 1]:\n",
        "                                        error += (neuron['weights'][j] * neuron['delta'])\n",
        "                                errors.append(error)\n",
        "                else:\n",
        "                        for j in range(len(layer)):\n",
        "                                neuron = layer[j]\n",
        "                                errors.append(expected[j] - neuron['output'])\n",
        "                for j in range(len(layer)):\n",
        "                        neuron = layer[j]\n",
        "                        neuron['delta'] = errors[j] * transfer_derivative(neuron['output'])\n",
        " "
      ],
      "execution_count": 9,
      "outputs": []
    },
    {
      "cell_type": "code",
      "metadata": {
        "id": "fi2ciSihaMs2"
      },
      "source": [
        "def update_weights(network, row, l_rate):\n",
        "        for i in range(len(network)):\n",
        "                inputs = row[:-1]                \n",
        "                if i != 0:\n",
        "                        inputs = [neuron['output'] for neuron in network[i - 1]]\n",
        "                for neuron in network[i]:\n",
        "                        for j in range(len(inputs)):\n",
        "                                temp = l_rate * neuron['delta'] * inputs[j] + mu * neuron['prev'][j]\n",
        "                                \n",
        "                                neuron['weights'][j] += temp\n",
        "                                #print(\"neuron weight{} \\n\".format(neuron['weights'][j]))\n",
        "                                neuron['prev'][j] = temp\n",
        "                        temp = l_rate * neuron['delta'] + mu * neuron['prev'][-1]\n",
        "                        neuron['weights'][-1] += temp\n",
        "                        neuron['prev'][-1] = temp\n",
        "                                "
      ],
      "execution_count": 10,
      "outputs": []
    },
    {
      "cell_type": "code",
      "metadata": {
        "id": "iepa0FlWaPBe"
      },
      "source": [
        "def train_network(network, train, l_rate, n_epoch, n_outputs):\n",
        "        for epoch in range(n_epoch):\n",
        "                for row in train:\n",
        "                        outputs = forward_propagate(network, row)\n",
        "                        #print(network)\n",
        "                        expected = [0 for i in range(n_outputs)]\n",
        "                        expected[int(row[-1])] = 1\n",
        "                        #print(\"expected row{}\\n\".format(expected))\n",
        "                        backward_propagate_error(network, expected)\n",
        "                        update_weights(network, row, l_rate)\n",
        " "
      ],
      "execution_count": 11,
      "outputs": []
    },
    {
      "cell_type": "code",
      "metadata": {
        "id": "GnhSoDvWaRJ2"
      },
      "source": [
        "# Initialize a network\n",
        "def initialize_network(n_inputs, n_hidden, n_outputs):\n",
        "        network = list()\n",
        "        hidden_layer = [{'weights':[random() for i in range(n_inputs + 1)], 'prev':[0 for i in range(n_inputs+1)]} for i in range(n_hidden)]        \n",
        "        network.append(hidden_layer)\n",
        "        hidden_layer = [{'weights':[random() for i in range(n_inputs + 1)], 'prev':[0 for i in range(n_inputs+1)]} for i in range(n_hidden)]        \n",
        "        network.append(hidden_layer)\n",
        "        output_layer = [{'weights':[random() for i in range(n_hidden + 1)],'prev':[0 for i in range(n_hidden+1)]} for i in range(n_outputs)]\n",
        "        network.append(output_layer)\n",
        "        #print(network)\n",
        "        return network"
      ],
      "execution_count": 12,
      "outputs": []
    },
    {
      "cell_type": "code",
      "metadata": {
        "id": "8e2KtUwlaVFe"
      },
      "source": [
        "# Make a prediction with a network\n",
        "def predict(network, row):\n",
        "        outputs = forward_propagate(network, row)\n",
        "        return outputs.index(max(outputs))\n",
        " \n",
        "# Backpropagation Algorithm With Stochastic Gradient Descent\n",
        "def back_propagation(train, test, l_rate, n_epoch, n_hidden):\n",
        "        n_inputs = len(train[0]) - 1\n",
        "        n_outputs = len(set([row[-1] for row in train]))\n",
        "        network = initialize_network(n_inputs, n_hidden, n_outputs)\n",
        "        train_network(network, train, l_rate, n_epoch, n_outputs)\n",
        "        #print(\"network {}\\n\".format(network))\n",
        "        predictions = list()\n",
        "        for row in test:\n",
        "                prediction = predict(network, row)\n",
        "                predictions.append(prediction)\n",
        "        return(predictions)\n",
        " "
      ],
      "execution_count": 13,
      "outputs": []
    },
    {
      "cell_type": "code",
      "metadata": {
        "colab": {
          "base_uri": "https://localhost:8080/",
          "height": 204
        },
        "id": "6MoCx_c4Vpf0",
        "outputId": "c56ced9c-746f-4304-8257-4ac31d76f751"
      },
      "source": [
        "# Test Backprop on Seeds dataset\n",
        "import pandas as pd\n",
        "seed(1)\n",
        "# load and prepare data\n",
        "filename = 'Iris.csv'\n",
        "dataset = pd.read_csv(filename)\n",
        "dataset.head()"
      ],
      "execution_count": 16,
      "outputs": [
        {
          "output_type": "execute_result",
          "data": {
            "text/html": [
              "<div>\n",
              "<style scoped>\n",
              "    .dataframe tbody tr th:only-of-type {\n",
              "        vertical-align: middle;\n",
              "    }\n",
              "\n",
              "    .dataframe tbody tr th {\n",
              "        vertical-align: top;\n",
              "    }\n",
              "\n",
              "    .dataframe thead th {\n",
              "        text-align: right;\n",
              "    }\n",
              "</style>\n",
              "<table border=\"1\" class=\"dataframe\">\n",
              "  <thead>\n",
              "    <tr style=\"text-align: right;\">\n",
              "      <th></th>\n",
              "      <th>0</th>\n",
              "      <th>1</th>\n",
              "      <th>2</th>\n",
              "      <th>3</th>\n",
              "      <th>4</th>\n",
              "      <th>5</th>\n",
              "    </tr>\n",
              "  </thead>\n",
              "  <tbody>\n",
              "    <tr>\n",
              "      <th>0</th>\n",
              "      <td>1</td>\n",
              "      <td>5.1</td>\n",
              "      <td>3.5</td>\n",
              "      <td>1.4</td>\n",
              "      <td>0.2</td>\n",
              "      <td>Iris-setosa</td>\n",
              "    </tr>\n",
              "    <tr>\n",
              "      <th>1</th>\n",
              "      <td>2</td>\n",
              "      <td>4.9</td>\n",
              "      <td>3.0</td>\n",
              "      <td>1.4</td>\n",
              "      <td>0.2</td>\n",
              "      <td>Iris-setosa</td>\n",
              "    </tr>\n",
              "    <tr>\n",
              "      <th>2</th>\n",
              "      <td>3</td>\n",
              "      <td>4.7</td>\n",
              "      <td>3.2</td>\n",
              "      <td>1.3</td>\n",
              "      <td>0.2</td>\n",
              "      <td>Iris-setosa</td>\n",
              "    </tr>\n",
              "    <tr>\n",
              "      <th>3</th>\n",
              "      <td>4</td>\n",
              "      <td>4.6</td>\n",
              "      <td>3.1</td>\n",
              "      <td>1.5</td>\n",
              "      <td>0.2</td>\n",
              "      <td>Iris-setosa</td>\n",
              "    </tr>\n",
              "    <tr>\n",
              "      <th>4</th>\n",
              "      <td>5</td>\n",
              "      <td>5.0</td>\n",
              "      <td>3.6</td>\n",
              "      <td>1.4</td>\n",
              "      <td>0.2</td>\n",
              "      <td>Iris-setosa</td>\n",
              "    </tr>\n",
              "  </tbody>\n",
              "</table>\n",
              "</div>"
            ],
            "text/plain": [
              "   0    1    2    3    4            5\n",
              "0  1  5.1  3.5  1.4  0.2  Iris-setosa\n",
              "1  2  4.9  3.0  1.4  0.2  Iris-setosa\n",
              "2  3  4.7  3.2  1.3  0.2  Iris-setosa\n",
              "3  4  4.6  3.1  1.5  0.2  Iris-setosa\n",
              "4  5  5.0  3.6  1.4  0.2  Iris-setosa"
            ]
          },
          "metadata": {
            "tags": []
          },
          "execution_count": 16
        }
      ]
    },
    {
      "cell_type": "code",
      "metadata": {
        "colab": {
          "base_uri": "https://localhost:8080/"
        },
        "id": "fRu6W6LTdm4M",
        "outputId": "7a15ce30-146a-4ef8-df13-bb0a7a4364e1"
      },
      "source": [
        "cols = dataset.columns\n",
        "features = cols[0:4]\n",
        "labels = cols[4]\n",
        "print(features)\n",
        "print(labels)"
      ],
      "execution_count": 17,
      "outputs": [
        {
          "output_type": "stream",
          "text": [
            "Index(['0', '1', '2', '3'], dtype='object')\n",
            "4\n"
          ],
          "name": "stdout"
        }
      ]
    },
    {
      "cell_type": "code",
      "metadata": {
        "colab": {
          "base_uri": "https://localhost:8080/"
        },
        "id": "-fDD591vd7mC",
        "outputId": "0b0ba9f6-761c-4b88-dfba-7f899db0588b"
      },
      "source": [
        "data_norm = pd.DataFrame(dataset)\n",
        "\n",
        "for feature in features:\n",
        "    dataset[feature] = (dataset[feature] - dataset[feature].mean())/dataset[feature].std()\n",
        "\n",
        "#Show that should now have zero mean\n",
        "print(\"Averages\")\n",
        "print(dataset.mean())\n",
        "\n",
        "print(\"\\n Deviations\")\n",
        "#Show that we have equal variance\n",
        "print(pow(dataset.std(),2))"
      ],
      "execution_count": 18,
      "outputs": [
        {
          "output_type": "stream",
          "text": [
            "Averages\n",
            "0    2.220446e-17\n",
            "1   -1.457168e-15\n",
            "2   -1.722511e-15\n",
            "3   -2.043551e-15\n",
            "4    1.198667e+00\n",
            "dtype: float64\n",
            "\n",
            " Deviations\n",
            "0    1.000000\n",
            "1    1.000000\n",
            "2    1.000000\n",
            "3    1.000000\n",
            "4    0.582414\n",
            "dtype: float64\n"
          ],
          "name": "stdout"
        }
      ]
    },
    {
      "cell_type": "code",
      "metadata": {
        "colab": {
          "base_uri": "https://localhost:8080/",
          "height": 204
        },
        "id": "L0r7MZpijGAE",
        "outputId": "cdff0ced-6ef3-4c00-ce0a-d777bf2db7f7"
      },
      "source": [
        "data_norm.head()"
      ],
      "execution_count": 19,
      "outputs": [
        {
          "output_type": "execute_result",
          "data": {
            "text/html": [
              "<div>\n",
              "<style scoped>\n",
              "    .dataframe tbody tr th:only-of-type {\n",
              "        vertical-align: middle;\n",
              "    }\n",
              "\n",
              "    .dataframe tbody tr th {\n",
              "        vertical-align: top;\n",
              "    }\n",
              "\n",
              "    .dataframe thead th {\n",
              "        text-align: right;\n",
              "    }\n",
              "</style>\n",
              "<table border=\"1\" class=\"dataframe\">\n",
              "  <thead>\n",
              "    <tr style=\"text-align: right;\">\n",
              "      <th></th>\n",
              "      <th>0</th>\n",
              "      <th>1</th>\n",
              "      <th>2</th>\n",
              "      <th>3</th>\n",
              "      <th>4</th>\n",
              "      <th>5</th>\n",
              "    </tr>\n",
              "  </thead>\n",
              "  <tbody>\n",
              "    <tr>\n",
              "      <th>0</th>\n",
              "      <td>-1.714797</td>\n",
              "      <td>-0.897674</td>\n",
              "      <td>1.028611</td>\n",
              "      <td>-1.336794</td>\n",
              "      <td>0.2</td>\n",
              "      <td>Iris-setosa</td>\n",
              "    </tr>\n",
              "    <tr>\n",
              "      <th>1</th>\n",
              "      <td>-1.691780</td>\n",
              "      <td>-1.139200</td>\n",
              "      <td>-0.124540</td>\n",
              "      <td>-1.336794</td>\n",
              "      <td>0.2</td>\n",
              "      <td>Iris-setosa</td>\n",
              "    </tr>\n",
              "    <tr>\n",
              "      <th>2</th>\n",
              "      <td>-1.668762</td>\n",
              "      <td>-1.380727</td>\n",
              "      <td>0.336720</td>\n",
              "      <td>-1.393470</td>\n",
              "      <td>0.2</td>\n",
              "      <td>Iris-setosa</td>\n",
              "    </tr>\n",
              "    <tr>\n",
              "      <th>3</th>\n",
              "      <td>-1.645745</td>\n",
              "      <td>-1.501490</td>\n",
              "      <td>0.106090</td>\n",
              "      <td>-1.280118</td>\n",
              "      <td>0.2</td>\n",
              "      <td>Iris-setosa</td>\n",
              "    </tr>\n",
              "    <tr>\n",
              "      <th>4</th>\n",
              "      <td>-1.622728</td>\n",
              "      <td>-1.018437</td>\n",
              "      <td>1.259242</td>\n",
              "      <td>-1.336794</td>\n",
              "      <td>0.2</td>\n",
              "      <td>Iris-setosa</td>\n",
              "    </tr>\n",
              "  </tbody>\n",
              "</table>\n",
              "</div>"
            ],
            "text/plain": [
              "          0         1         2         3    4            5\n",
              "0 -1.714797 -0.897674  1.028611 -1.336794  0.2  Iris-setosa\n",
              "1 -1.691780 -1.139200 -0.124540 -1.336794  0.2  Iris-setosa\n",
              "2 -1.668762 -1.380727  0.336720 -1.393470  0.2  Iris-setosa\n",
              "3 -1.645745 -1.501490  0.106090 -1.280118  0.2  Iris-setosa\n",
              "4 -1.622728 -1.018437  1.259242 -1.336794  0.2  Iris-setosa"
            ]
          },
          "metadata": {
            "tags": []
          },
          "execution_count": 19
        }
      ]
    },
    {
      "cell_type": "code",
      "metadata": {
        "colab": {
          "base_uri": "https://localhost:8080/",
          "height": 204
        },
        "id": "XLWoEjoaj9_G",
        "outputId": "b46b2102-8c2a-4d29-b046-02ad888a0ccb"
      },
      "source": [
        "X = data_norm.drop(['5'],axis=1)\n",
        "X.head()"
      ],
      "execution_count": 20,
      "outputs": [
        {
          "output_type": "execute_result",
          "data": {
            "text/html": [
              "<div>\n",
              "<style scoped>\n",
              "    .dataframe tbody tr th:only-of-type {\n",
              "        vertical-align: middle;\n",
              "    }\n",
              "\n",
              "    .dataframe tbody tr th {\n",
              "        vertical-align: top;\n",
              "    }\n",
              "\n",
              "    .dataframe thead th {\n",
              "        text-align: right;\n",
              "    }\n",
              "</style>\n",
              "<table border=\"1\" class=\"dataframe\">\n",
              "  <thead>\n",
              "    <tr style=\"text-align: right;\">\n",
              "      <th></th>\n",
              "      <th>0</th>\n",
              "      <th>1</th>\n",
              "      <th>2</th>\n",
              "      <th>3</th>\n",
              "      <th>4</th>\n",
              "    </tr>\n",
              "  </thead>\n",
              "  <tbody>\n",
              "    <tr>\n",
              "      <th>0</th>\n",
              "      <td>-1.714797</td>\n",
              "      <td>-0.897674</td>\n",
              "      <td>1.028611</td>\n",
              "      <td>-1.336794</td>\n",
              "      <td>0.2</td>\n",
              "    </tr>\n",
              "    <tr>\n",
              "      <th>1</th>\n",
              "      <td>-1.691780</td>\n",
              "      <td>-1.139200</td>\n",
              "      <td>-0.124540</td>\n",
              "      <td>-1.336794</td>\n",
              "      <td>0.2</td>\n",
              "    </tr>\n",
              "    <tr>\n",
              "      <th>2</th>\n",
              "      <td>-1.668762</td>\n",
              "      <td>-1.380727</td>\n",
              "      <td>0.336720</td>\n",
              "      <td>-1.393470</td>\n",
              "      <td>0.2</td>\n",
              "    </tr>\n",
              "    <tr>\n",
              "      <th>3</th>\n",
              "      <td>-1.645745</td>\n",
              "      <td>-1.501490</td>\n",
              "      <td>0.106090</td>\n",
              "      <td>-1.280118</td>\n",
              "      <td>0.2</td>\n",
              "    </tr>\n",
              "    <tr>\n",
              "      <th>4</th>\n",
              "      <td>-1.622728</td>\n",
              "      <td>-1.018437</td>\n",
              "      <td>1.259242</td>\n",
              "      <td>-1.336794</td>\n",
              "      <td>0.2</td>\n",
              "    </tr>\n",
              "  </tbody>\n",
              "</table>\n",
              "</div>"
            ],
            "text/plain": [
              "          0         1         2         3    4\n",
              "0 -1.714797 -0.897674  1.028611 -1.336794  0.2\n",
              "1 -1.691780 -1.139200 -0.124540 -1.336794  0.2\n",
              "2 -1.668762 -1.380727  0.336720 -1.393470  0.2\n",
              "3 -1.645745 -1.501490  0.106090 -1.280118  0.2\n",
              "4 -1.622728 -1.018437  1.259242 -1.336794  0.2"
            ]
          },
          "metadata": {
            "tags": []
          },
          "execution_count": 20
        }
      ]
    },
    {
      "cell_type": "code",
      "metadata": {
        "colab": {
          "base_uri": "https://localhost:8080/",
          "height": 204
        },
        "id": "-8ZWhoxOlEyL",
        "outputId": "df0f9937-a8b4-458e-b5f1-1f177433dfc7"
      },
      "source": [
        "y = data_norm[['5']]\n",
        "y.head()"
      ],
      "execution_count": 21,
      "outputs": [
        {
          "output_type": "execute_result",
          "data": {
            "text/html": [
              "<div>\n",
              "<style scoped>\n",
              "    .dataframe tbody tr th:only-of-type {\n",
              "        vertical-align: middle;\n",
              "    }\n",
              "\n",
              "    .dataframe tbody tr th {\n",
              "        vertical-align: top;\n",
              "    }\n",
              "\n",
              "    .dataframe thead th {\n",
              "        text-align: right;\n",
              "    }\n",
              "</style>\n",
              "<table border=\"1\" class=\"dataframe\">\n",
              "  <thead>\n",
              "    <tr style=\"text-align: right;\">\n",
              "      <th></th>\n",
              "      <th>5</th>\n",
              "    </tr>\n",
              "  </thead>\n",
              "  <tbody>\n",
              "    <tr>\n",
              "      <th>0</th>\n",
              "      <td>Iris-setosa</td>\n",
              "    </tr>\n",
              "    <tr>\n",
              "      <th>1</th>\n",
              "      <td>Iris-setosa</td>\n",
              "    </tr>\n",
              "    <tr>\n",
              "      <th>2</th>\n",
              "      <td>Iris-setosa</td>\n",
              "    </tr>\n",
              "    <tr>\n",
              "      <th>3</th>\n",
              "      <td>Iris-setosa</td>\n",
              "    </tr>\n",
              "    <tr>\n",
              "      <th>4</th>\n",
              "      <td>Iris-setosa</td>\n",
              "    </tr>\n",
              "  </tbody>\n",
              "</table>\n",
              "</div>"
            ],
            "text/plain": [
              "             5\n",
              "0  Iris-setosa\n",
              "1  Iris-setosa\n",
              "2  Iris-setosa\n",
              "3  Iris-setosa\n",
              "4  Iris-setosa"
            ]
          },
          "metadata": {
            "tags": []
          },
          "execution_count": 21
        }
      ]
    },
    {
      "cell_type": "code",
      "metadata": {
        "colab": {
          "base_uri": "https://localhost:8080/",
          "height": 374
        },
        "id": "ZMt3bxoLpuwS",
        "outputId": "84edd223-e4d9-46f7-8fc3-9a0743e26541"
      },
      "source": [
        "from sklearn.preprocessing  import LabelEncoder\n",
        "\n",
        "enc = LabelEncoder()\n",
        "y.loc[:,['5']] = y.loc[:,['5']].apply(enc.fit_transform)\n",
        "y.head()"
      ],
      "execution_count": 22,
      "outputs": [
        {
          "output_type": "stream",
          "text": [
            "/usr/local/lib/python3.7/dist-packages/pandas/core/indexing.py:670: SettingWithCopyWarning: \n",
            "A value is trying to be set on a copy of a slice from a DataFrame\n",
            "\n",
            "See the caveats in the documentation: https://pandas.pydata.org/pandas-docs/stable/user_guide/indexing.html#returning-a-view-versus-a-copy\n",
            "  iloc._setitem_with_indexer(indexer, value)\n",
            "/usr/local/lib/python3.7/dist-packages/ipykernel_launcher.py:4: SettingWithCopyWarning: \n",
            "A value is trying to be set on a copy of a slice from a DataFrame\n",
            "\n",
            "See the caveats in the documentation: https://pandas.pydata.org/pandas-docs/stable/user_guide/indexing.html#returning-a-view-versus-a-copy\n",
            "  after removing the cwd from sys.path.\n"
          ],
          "name": "stderr"
        },
        {
          "output_type": "execute_result",
          "data": {
            "text/html": [
              "<div>\n",
              "<style scoped>\n",
              "    .dataframe tbody tr th:only-of-type {\n",
              "        vertical-align: middle;\n",
              "    }\n",
              "\n",
              "    .dataframe tbody tr th {\n",
              "        vertical-align: top;\n",
              "    }\n",
              "\n",
              "    .dataframe thead th {\n",
              "        text-align: right;\n",
              "    }\n",
              "</style>\n",
              "<table border=\"1\" class=\"dataframe\">\n",
              "  <thead>\n",
              "    <tr style=\"text-align: right;\">\n",
              "      <th></th>\n",
              "      <th>5</th>\n",
              "    </tr>\n",
              "  </thead>\n",
              "  <tbody>\n",
              "    <tr>\n",
              "      <th>0</th>\n",
              "      <td>0</td>\n",
              "    </tr>\n",
              "    <tr>\n",
              "      <th>1</th>\n",
              "      <td>0</td>\n",
              "    </tr>\n",
              "    <tr>\n",
              "      <th>2</th>\n",
              "      <td>0</td>\n",
              "    </tr>\n",
              "    <tr>\n",
              "      <th>3</th>\n",
              "      <td>0</td>\n",
              "    </tr>\n",
              "    <tr>\n",
              "      <th>4</th>\n",
              "      <td>0</td>\n",
              "    </tr>\n",
              "  </tbody>\n",
              "</table>\n",
              "</div>"
            ],
            "text/plain": [
              "   5\n",
              "0  0\n",
              "1  0\n",
              "2  0\n",
              "3  0\n",
              "4  0"
            ]
          },
          "metadata": {
            "tags": []
          },
          "execution_count": 22
        }
      ]
    },
    {
      "cell_type": "code",
      "metadata": {
        "colab": {
          "base_uri": "https://localhost:8080/"
        },
        "id": "ckMlStwhp8bG",
        "outputId": "79ad0966-6223-4a1e-cafe-28394e4bd3b6"
      },
      "source": [
        "y['5'].value_counts()"
      ],
      "execution_count": 23,
      "outputs": [
        {
          "output_type": "execute_result",
          "data": {
            "text/plain": [
              "2    50\n",
              "1    50\n",
              "0    50\n",
              "Name: 5, dtype: int64"
            ]
          },
          "metadata": {
            "tags": []
          },
          "execution_count": 23
        }
      ]
    },
    {
      "cell_type": "code",
      "metadata": {
        "id": "2h76PWfIeJUy"
      },
      "source": [
        "X_all = pd.concat([X,y],axis=1)\n",
        "# Generate Training and Validation Sets\n",
        "#X_train, X_test, y_train, y_test = train_test_split(X,y, test_size=.3)\n",
        "\n",
        "# Convert to np arrays so that we can use with TensorFlow\n",
        "X_train = np.array(X_all).astype(np.float32)\n",
        "#y_train = np.array(y).astype(np.float32)"
      ],
      "execution_count": 24,
      "outputs": []
    },
    {
      "cell_type": "code",
      "metadata": {
        "colab": {
          "base_uri": "https://localhost:8080/"
        },
        "id": "hlTFGUJ3erOb",
        "outputId": "300050d2-9b1c-4599-c282-275680517515"
      },
      "source": [
        "X_train.shape"
      ],
      "execution_count": 25,
      "outputs": [
        {
          "output_type": "execute_result",
          "data": {
            "text/plain": [
              "(150, 6)"
            ]
          },
          "metadata": {
            "tags": []
          },
          "execution_count": 25
        }
      ]
    },
    {
      "cell_type": "code",
      "metadata": {
        "colab": {
          "base_uri": "https://localhost:8080/"
        },
        "id": "dQjP2xGTloye",
        "outputId": "cd47607f-e30a-4883-fe0d-43dd264300f5"
      },
      "source": [
        "y.shape"
      ],
      "execution_count": null,
      "outputs": [
        {
          "output_type": "execute_result",
          "data": {
            "text/plain": [
              "(150, 1)"
            ]
          },
          "metadata": {
            "tags": []
          },
          "execution_count": 104
        }
      ]
    },
    {
      "cell_type": "code",
      "metadata": {
        "colab": {
          "base_uri": "https://localhost:8080/"
        },
        "id": "ivqwFFwceXqk",
        "outputId": "58711112-1598-44b4-bd8c-dc83cac1c9a7"
      },
      "source": [
        "n_folds = 5\n",
        "l_rate = 0.1\n",
        "mu=0.001\n",
        "n_epoch = 1500\n",
        "n_hidden = 2\n",
        "scores = run_algorithm(X_train, back_propagation, n_folds, l_rate, n_epoch, n_hidden)"
      ],
      "execution_count": 26,
      "outputs": [
        {
          "output_type": "stream",
          "text": [
            "  11   0   0\n",
            "   0   6   2\n",
            "   0   0  11\n",
            "False Positives\n",
            " [0 0 2]\n",
            "False Negetives\n",
            " [0 2 0]\n",
            "True Positives\n",
            " [11  6 11]\n",
            "True Negetives\n",
            " [19 22 17]\n",
            "Sensitivity \n",
            " [1.   0.75 1.  ]\n",
            "Specificity \n",
            " [1.         1.         0.89473684]\n",
            "Precision \n",
            " [1.         1.         0.84615385]\n",
            "Recall \n",
            " [1.   0.75 1.  ]\n",
            "Áccuracy \n",
            "[1.         0.93333333 0.93333333]\n",
            "FScore \n",
            "[1.         0.85714286 0.91666667]\n",
            "Çohen Kappa \n",
            "0.8979591836734694\n",
            "  10   0   0\n",
            "   0  10   1\n",
            "   0   0   9\n",
            "False Positives\n",
            " [0 0 1]\n",
            "False Negetives\n",
            " [0 1 0]\n",
            "True Positives\n",
            " [10 10  9]\n",
            "True Negetives\n",
            " [20 19 20]\n",
            "Sensitivity \n",
            " [1.         0.90909091 1.        ]\n",
            "Specificity \n",
            " [1.         1.         0.95238095]\n",
            "Precision \n",
            " [1.  1.  0.9]\n",
            "Recall \n",
            " [1.         0.90909091 1.        ]\n",
            "Áccuracy \n",
            "[1.         0.96666667 0.96666667]\n",
            "FScore \n",
            "[1.         0.95238095 0.94736842]\n",
            "Çohen Kappa \n",
            "0.95\n",
            "   6   0   0\n",
            "   7   3   0\n",
            "   0   0  14\n",
            "False Positives\n",
            " [7 0 0]\n",
            "False Negetives\n",
            " [0 7 0]\n",
            "True Positives\n",
            " [ 6  3 14]\n",
            "True Negetives\n",
            " [17 20 16]\n",
            "Sensitivity \n",
            " [1.  0.3 1. ]\n",
            "Specificity \n",
            " [0.70833333 1.         1.        ]\n",
            "Precision \n",
            " [0.46153846 1.         1.        ]\n",
            "Recall \n",
            " [1.  0.3 1. ]\n",
            "Áccuracy \n",
            "[0.76666667 0.76666667 1.        ]\n",
            "FScore \n",
            "[0.63157895 0.46153846 1.        ]\n",
            "Çohen Kappa \n",
            "0.6476510067114094\n",
            "  10   0   0\n",
            "   0   8   2\n",
            "   0   0  10\n",
            "False Positives\n",
            " [0 0 2]\n",
            "False Negetives\n",
            " [0 2 0]\n",
            "True Positives\n",
            " [10  8 10]\n",
            "True Negetives\n",
            " [20 20 18]\n",
            "Sensitivity \n",
            " [1.  0.8 1. ]\n",
            "Specificity \n",
            " [1.  1.  0.9]\n",
            "Precision \n",
            " [1.         1.         0.83333333]\n",
            "Recall \n",
            " [1.  0.8 1. ]\n",
            "Áccuracy \n",
            "[1.         0.93333333 0.93333333]\n",
            "FScore \n",
            "[1.         0.88888889 0.90909091]\n",
            "Çohen Kappa \n",
            "0.9\n",
            "  13   0   0\n",
            "   0   9   2\n",
            "   0   0   6\n",
            "False Positives\n",
            " [0 0 2]\n",
            "False Negetives\n",
            " [0 2 0]\n",
            "True Positives\n",
            " [13  9  6]\n",
            "True Negetives\n",
            " [17 19 22]\n",
            "Sensitivity \n",
            " [1.         0.81818182 1.        ]\n",
            "Specificity \n",
            " [1.         1.         0.91666667]\n",
            "Precision \n",
            " [1.   1.   0.75]\n",
            "Recall \n",
            " [1.         0.81818182 1.        ]\n",
            "Áccuracy \n",
            "[1.         0.93333333 0.93333333]\n",
            "FScore \n",
            "[1.         0.9        0.85714286]\n",
            "Çohen Kappa \n",
            "0.8972602739726028\n"
          ],
          "name": "stdout"
        }
      ]
    },
    {
      "cell_type": "code",
      "metadata": {
        "id": "g46zd3dhsWjV"
      },
      "source": [
        ""
      ],
      "execution_count": null,
      "outputs": []
    },
    {
      "cell_type": "code",
      "metadata": {
        "id": "heVaT-o1nTdr"
      },
      "source": [
        ""
      ],
      "execution_count": null,
      "outputs": []
    }
  ]
}